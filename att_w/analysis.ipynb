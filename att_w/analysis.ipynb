{
 "cells": [
  {
   "cell_type": "code",
   "execution_count": 2,
   "metadata": {
    "collapsed": true
   },
   "outputs": [],
   "source": [
    "import scanpy as sc\n",
    "import matplotlib.pyplot as plt\n",
    "import pandas as pd\n",
    "import pickle as pk"
   ]
  },
  {
   "cell_type": "code",
   "execution_count": 3,
   "outputs": [],
   "source": [
    "chr = 1\n",
    "cell_type = 't cell'"
   ],
   "metadata": {
    "collapsed": false
   }
  },
  {
   "cell_type": "code",
   "execution_count": 4,
   "outputs": [],
   "source": [
    "att_w_path = f'../data/att w/chr{chr}_mean_att_w_per_cell_group.pkl'\n",
    "maker_gene_path = '../data/top_100_genes_per_cell_group.pkl'\n",
    "\n",
    "att_w = pk.load(open(att_w_path, 'rb'))\n",
    "maker_gene = pk.load(open(maker_gene_path, 'rb'))"
   ],
   "metadata": {
    "collapsed": false
   }
  },
  {
   "cell_type": "code",
   "execution_count": 5,
   "outputs": [
    {
     "name": "stdout",
     "output_type": "stream",
     "text": [
      "dict_keys(['prog', 'NK', 'cDC2', 'b cell', 'Plasma cell', 'pDC', 't cell', 'HSC', 'blast cell', 'mono'])\n",
      "dict_keys(['cDC2', 'mono', 'b cell', 'Plasma cell', 'blast cell', 't cell', 'prog', 'pDC', 'NK', 'HSC'])\n"
     ]
    }
   ],
   "source": [
    "print(att_w.keys())\n",
    "print(maker_gene.keys())"
   ],
   "metadata": {
    "collapsed": false
   }
  },
  {
   "cell_type": "code",
   "execution_count": 6,
   "outputs": [],
   "source": [
    "gene_locus = pk.load(open('../craw/gene locus 2.pkl', 'rb'))\n",
    "gene_dict = pk.load(open('../craw/gene infor 2.pkl', 'rb'))"
   ],
   "metadata": {
    "collapsed": false
   }
  },
  {
   "cell_type": "code",
   "execution_count": 7,
   "outputs": [
    {
     "name": "stdout",
     "output_type": "stream",
     "text": [
      "chr1 ['CD2', 'PTPRC']\n",
      "chr4 ['INPP4B']\n",
      "chr5 ['IL7R', 'FYB1', 'CAMK4', 'ITK']\n",
      "chr6 ['FYN', 'THEMIS']\n",
      "chr11 ['MALAT1', 'ETS1']\n",
      "chr13 ['KLF12']\n",
      "chr14 ['PRKCH', 'SYNE2', 'TC2N', 'BCL11B']\n",
      "chr15 ['B2M', 'RORA']\n",
      "chr16 ['IL32']\n",
      "chr17 ['SKAP1']\n"
     ]
    }
   ],
   "source": [
    "maker_gene_per_chr = {}\n",
    "cell_maker_gene = maker_gene[cell_type][:20]\n",
    "\n",
    "for i in range(1, 23):\n",
    "    maker_gene_per_chr[f'chr{i}'] = []\n",
    "\n",
    "    data_path = f'../data/paper data/atac2gex/chr{i}/gex_test.h5ad'\n",
    "    data = sc.read_h5ad(data_path)\n",
    "\n",
    "    gene_name = data.var_names\n",
    "    for name in gene_name:\n",
    "        if name in cell_maker_gene:\n",
    "            maker_gene_per_chr[f'chr{i}'].append(name)\n",
    "\n",
    "for key in maker_gene_per_chr:\n",
    "    if len(maker_gene_per_chr[key]) > 0:\n",
    "        print(key, maker_gene_per_chr[key])"
   ],
   "metadata": {
    "collapsed": false
   }
  },
  {
   "cell_type": "code",
   "execution_count": 7,
   "outputs": [],
   "source": [
    "atac_in_gene_per_chr = {}\n",
    "\n",
    "for i in range(1, 23):\n",
    "    list_atac = []\n",
    "    for key in gene_locus.keys():\n",
    "        if len(gene_locus[key]) > 0:\n",
    "            if int(gene_dict[key]['chromosome_name'][-3:]) == i:\n",
    "                list_atac += gene_locus[key]\n",
    "\n",
    "    atac_in_gene_per_chr[f'chr{i}'] = []\n",
    "\n",
    "    data_path = f'../data/paper data/atac2gex/chr{i}/atac_test.h5ad'\n",
    "    data = sc.read_h5ad(data_path)\n",
    "\n",
    "    atac_name = data.var_names\n",
    "    for name in atac_name:\n",
    "        if name in list_atac:\n",
    "            atac_in_gene_per_chr[f'chr{i}'].append(name)"
   ],
   "metadata": {
    "collapsed": false
   }
  },
  {
   "cell_type": "code",
   "execution_count": 8,
   "outputs": [
    {
     "name": "stdout",
     "output_type": "stream",
     "text": [
      "chr1 ['chr1-778276-779191', 'chr1-827067-827948', 'chr1-838003-838737', 'chr1-841079-841916', 'chr1-842497-843414', 'chr1-844132-844995', 'chr1-857951-858596', 'chr1-958865-959755', 'chr1-960362-961092', 'chr1-1013003-1013921']\n",
      "chr2 ['chr2-223171-224082', 'chr2-237692-238499', 'chr2-246224-247118', 'chr2-264440-265332', 'chr2-268080-268884', 'chr2-667212-668017', 'chr2-676663-677685', 'chr2-950350-951204', 'chr2-973804-974683', 'chr2-1140136-1141042']\n",
      "chr3 ['chr3-3109936-3110792', 'chr3-3126476-3127367', 'chr3-3170730-3171628', 'chr3-3172513-3173010', 'chr3-3173133-3173912', 'chr3-3179272-3180162', 'chr3-3798943-3799751', 'chr3-4064848-4065721', 'chr3-4071224-4072159', 'chr3-4222385-4223267']\n",
      "chr4 ['chr4-124129-124964', 'chr4-337225-338135', 'chr4-384124-385059', 'chr4-473740-474603', 'chr4-476198-477074', 'chr4-483186-484086', 'chr4-498738-499642', 'chr4-663384-664176', 'chr4-673974-674867', 'chr4-680945-681939']\n",
      "chr5 ['chr5-217771-218680', 'chr5-222612-223455', 'chr5-243654-244505', 'chr5-271088-272004', 'chr5-296799-297702', 'chr5-442668-443589', 'chr5-446544-447378', 'chr5-448091-448992', 'chr5-463708-464589', 'chr5-466531-467367']\n",
      "chr6 ['chr6-296231-297064', 'chr6-298357-299208', 'chr6-312780-313701', 'chr6-317528-318458', 'chr6-327816-328657', 'chr6-331704-332612', 'chr6-336424-337212', 'chr6-337669-338526', 'chr6-339005-339764', 'chr6-340945-341808']\n",
      "chr7 ['chr7-191987-192909', 'chr7-216640-217468', 'chr7-222183-222977', 'chr7-223184-223810', 'chr7-583794-584670', 'chr7-593213-594085', 'chr7-601455-602357', 'chr7-604107-604989', 'chr7-607767-608587', 'chr7-610407-611310']\n",
      "chr8 ['chr8-231957-232832', 'chr8-406452-407352', 'chr8-477239-478130', 'chr8-629047-630077', 'chr8-630680-631551', 'chr8-636713-637584', 'chr8-651455-652353', 'chr8-653200-654034', 'chr8-664848-665660', 'chr8-671985-672904']\n",
      "chr9 ['chr9-178757-179633', 'chr9-212035-212937', 'chr9-214531-215461', 'chr9-219436-220342', 'chr9-221917-222772', 'chr9-222992-223545', 'chr9-224485-225080', 'chr9-227585-228454', 'chr9-248740-249649', 'chr9-257679-258560']\n",
      "chr10 ['chr10-135387-136172', 'chr10-137111-137759', 'chr10-246167-247070', 'chr10-283736-284610', 'chr10-306628-307496', 'chr10-311800-312706', 'chr10-317007-317895', 'chr10-323673-324550', 'chr10-329164-330090', 'chr10-333431-334320']\n",
      "chr11 ['chr11-207058-207951', 'chr11-208481-209250', 'chr11-236173-237072', 'chr11-250477-251365', 'chr11-279002-279738', 'chr11-280919-281833', 'chr11-288607-289521', 'chr11-307830-308706', 'chr11-406735-407665', 'chr11-409969-410550']\n",
      "chr12 ['chr12-302643-303486', 'chr12-389069-389909', 'chr12-401117-402008', 'chr12-406570-407455', 'chr12-442035-442913', 'chr12-459726-460572', 'chr12-525764-526638', 'chr12-538972-539840', 'chr12-546670-547472', 'chr12-553251-554155']\n",
      "chr13 ['chr13-19633145-19634028', 'chr13-19766262-19767122', 'chr13-19775952-19776824', 'chr13-19780608-19781288', 'chr13-19782555-19783383', 'chr13-19845384-19846228', 'chr13-19863238-19864150', 'chr13-19864574-19865290', 'chr13-19926878-19927669', 'chr13-19953022-19953851']\n",
      "chr14 ['chr14-20294886-20295774', 'chr14-20305481-20306360', 'chr14-20327010-20327927', 'chr14-20332825-20333698', 'chr14-20342949-20343829', 'chr14-20454677-20455534', 'chr14-20461202-20462110', 'chr14-20469031-20469844', 'chr14-20780560-20781448', 'chr14-20781995-20782932']\n",
      "chr15 ['chr15-22786128-22787041', 'chr15-22795146-22795911', 'chr15-22796535-22797455', 'chr15-22810034-22810762', 'chr15-22811467-22812298', 'chr15-22838151-22839072', 'chr15-22839794-22840511', 'chr15-22842641-22843564', 'chr15-22871389-22872313', 'chr15-22884075-22884970']\n",
      "chr16 ['chr16-53295-54198', 'chr16-57401-58311', 'chr16-77755-78582', 'chr16-84524-85445', 'chr16-91302-92129', 'chr16-96659-97558', 'chr16-104620-105517', 'chr16-106726-107632', 'chr16-113164-114077', 'chr16-117524-118411']\n",
      "chr17 ['chr17-218889-219789', 'chr17-233216-234021', 'chr17-241577-242322', 'chr17-292677-293543', 'chr17-301753-302663', 'chr17-309068-309962', 'chr17-313685-314587', 'chr17-329618-330460', 'chr17-331006-331888', 'chr17-335887-336814']\n",
      "chr18 ['chr18-158090-158941', 'chr18-267600-268513', 'chr18-657987-658478', 'chr18-681773-682648', 'chr18-702673-703547', 'chr18-711323-712092', 'chr18-712352-713200', 'chr18-741619-742508', 'chr18-755215-756100', 'chr18-785220-786059']\n",
      "chr19 ['chr19-340493-341362', 'chr19-342458-343276', 'chr19-344358-345220', 'chr19-506694-507578', 'chr19-510609-511440', 'chr19-516359-517275', 'chr19-518570-519464', 'chr19-531159-532022', 'chr19-532731-533514', 'chr19-535032-535921']\n",
      "chr20 ['chr20-290119-291028', 'chr20-297072-297935', 'chr20-298495-299233', 'chr20-324012-324794', 'chr20-325119-325907', 'chr20-326893-327774', 'chr20-380513-381319', 'chr20-381553-382450', 'chr20-390891-391821', 'chr20-396497-397236']\n",
      "chr21 ['chr21-5123428-5124326', 'chr21-5128021-5128919', 'chr21-14380598-14381538', 'chr21-14382843-14383768', 'chr21-14513319-14514277', 'chr21-14520276-14521179', 'chr21-14522923-14523791', 'chr21-14526910-14527503', 'chr21-14527919-14528757', 'chr21-14533707-14534581']\n",
      "chr22 ['chr22-17084506-17085372', 'chr22-17087431-17088336', 'chr22-17095362-17096262', 'chr22-17098177-17099096', 'chr22-17100282-17101150', 'chr22-17106535-17107443', 'chr22-17154772-17155651', 'chr22-17158799-17159651', 'chr22-17213872-17214677', 'chr22-17216702-17217108']\n"
     ]
    }
   ],
   "source": [
    "for key in atac_in_gene_per_chr:\n",
    "    print(key, atac_in_gene_per_chr[key][:10])"
   ],
   "metadata": {
    "collapsed": false
   }
  },
  {
   "cell_type": "code",
   "execution_count": 9,
   "outputs": [
    {
     "data": {
      "text/plain": "                          LINC01409  LINC01128     NOC2L    KLHL17     ISG15  \\\nchr1-9776-10668            0.000087   0.000087  0.000088  0.000088  0.000088   \nchr1-180726-181005         0.000087   0.000087  0.000086  0.000086  0.000087   \nchr1-181117-181803         0.000086   0.000086  0.000085  0.000085  0.000087   \nchr1-191133-192055         0.000086   0.000086  0.000086  0.000086  0.000087   \nchr1-267562-268456         0.000087   0.000087  0.000087  0.000087  0.000087   \n...                             ...        ...       ...       ...       ...   \nchr1-248889127-248890048   0.000086   0.000086  0.000085  0.000085  0.000086   \nchr1-248890687-248891455   0.000086   0.000086  0.000086  0.000086  0.000087   \nchr1-248906135-248906977   0.000087   0.000087  0.000087  0.000087  0.000087   \nchr1-248913933-248914623   0.000086   0.000086  0.000086  0.000086  0.000087   \nchr1-248924661-248925528   0.000088   0.000088  0.000088  0.000088  0.000087   \n\n                          C1orf159      SDF4   B3GALT6    UBE2J2     ACAP3  \\\nchr1-9776-10668           0.000087  0.000087  0.000088  0.000087  0.000087   \nchr1-180726-181005        0.000087  0.000087  0.000086  0.000087  0.000087   \nchr1-181117-181803        0.000086  0.000087  0.000085  0.000087  0.000086   \nchr1-191133-192055        0.000086  0.000087  0.000086  0.000087  0.000086   \nchr1-267562-268456        0.000087  0.000087  0.000087  0.000087  0.000087   \n...                            ...       ...       ...       ...       ...   \nchr1-248889127-248890048  0.000086  0.000087  0.000085  0.000086  0.000086   \nchr1-248890687-248891455  0.000086  0.000087  0.000086  0.000087  0.000086   \nchr1-248906135-248906977  0.000087  0.000087  0.000087  0.000087  0.000087   \nchr1-248913933-248914623  0.000086  0.000087  0.000086  0.000087  0.000086   \nchr1-248924661-248925528  0.000088  0.000087  0.000088  0.000087  0.000088   \n\n                          ...      IQCH      EFL1     USP31      PEMT  \\\nchr1-9776-10668           ...  0.000088  0.000087  0.000087  0.000088   \nchr1-180726-181005        ...  0.000086  0.000087  0.000087  0.000086   \nchr1-181117-181803        ...  0.000085  0.000087  0.000086  0.000085   \nchr1-191133-192055        ...  0.000086  0.000087  0.000086  0.000086   \nchr1-267562-268456        ...  0.000087  0.000087  0.000087  0.000087   \n...                       ...       ...       ...       ...       ...   \nchr1-248889127-248890048  ...  0.000085  0.000087  0.000086  0.000085   \nchr1-248890687-248891455  ...  0.000086  0.000087  0.000086  0.000086   \nchr1-248906135-248906977  ...  0.000087  0.000087  0.000087  0.000087   \nchr1-248913933-248914623  ...  0.000086  0.000087  0.000086  0.000086   \nchr1-248924661-248925528  ...  0.000088  0.000087  0.000088  0.000088   \n\n                              RCN3     USP16    SH3BP1     DESI1       CHM  \\\nchr1-9776-10668           0.000088  0.000087  0.000088  0.000087  0.000087   \nchr1-180726-181005        0.000086  0.000087  0.000087  0.000087  0.000087   \nchr1-181117-181803        0.000085  0.000088  0.000086  0.000086  0.000087   \nchr1-191133-192055        0.000086  0.000087  0.000087  0.000086  0.000087   \nchr1-267562-268456        0.000087  0.000087  0.000087  0.000087  0.000087   \n...                            ...       ...       ...       ...       ...   \nchr1-248889127-248890048  0.000085  0.000088  0.000086  0.000086  0.000087   \nchr1-248890687-248891455  0.000086  0.000087  0.000087  0.000086  0.000087   \nchr1-248906135-248906977  0.000087  0.000087  0.000087  0.000087  0.000087   \nchr1-248913933-248914623  0.000086  0.000087  0.000086  0.000086  0.000087   \nchr1-248924661-248925528  0.000088  0.000086  0.000087  0.000088  0.000087   \n\n                              FHL1  \nchr1-9776-10668           0.000087  \nchr1-180726-181005        0.000087  \nchr1-181117-181803        0.000086  \nchr1-191133-192055        0.000086  \nchr1-267562-268456        0.000087  \n...                            ...  \nchr1-248889127-248890048  0.000086  \nchr1-248890687-248891455  0.000086  \nchr1-248906135-248906977  0.000087  \nchr1-248913933-248914623  0.000086  \nchr1-248924661-248925528  0.000088  \n\n[11497 rows x 1235 columns]",
      "text/html": "<div>\n<style scoped>\n    .dataframe tbody tr th:only-of-type {\n        vertical-align: middle;\n    }\n\n    .dataframe tbody tr th {\n        vertical-align: top;\n    }\n\n    .dataframe thead th {\n        text-align: right;\n    }\n</style>\n<table border=\"1\" class=\"dataframe\">\n  <thead>\n    <tr style=\"text-align: right;\">\n      <th></th>\n      <th>LINC01409</th>\n      <th>LINC01128</th>\n      <th>NOC2L</th>\n      <th>KLHL17</th>\n      <th>ISG15</th>\n      <th>C1orf159</th>\n      <th>SDF4</th>\n      <th>B3GALT6</th>\n      <th>UBE2J2</th>\n      <th>ACAP3</th>\n      <th>...</th>\n      <th>IQCH</th>\n      <th>EFL1</th>\n      <th>USP31</th>\n      <th>PEMT</th>\n      <th>RCN3</th>\n      <th>USP16</th>\n      <th>SH3BP1</th>\n      <th>DESI1</th>\n      <th>CHM</th>\n      <th>FHL1</th>\n    </tr>\n  </thead>\n  <tbody>\n    <tr>\n      <th>chr1-9776-10668</th>\n      <td>0.000087</td>\n      <td>0.000087</td>\n      <td>0.000088</td>\n      <td>0.000088</td>\n      <td>0.000088</td>\n      <td>0.000087</td>\n      <td>0.000087</td>\n      <td>0.000088</td>\n      <td>0.000087</td>\n      <td>0.000087</td>\n      <td>...</td>\n      <td>0.000088</td>\n      <td>0.000087</td>\n      <td>0.000087</td>\n      <td>0.000088</td>\n      <td>0.000088</td>\n      <td>0.000087</td>\n      <td>0.000088</td>\n      <td>0.000087</td>\n      <td>0.000087</td>\n      <td>0.000087</td>\n    </tr>\n    <tr>\n      <th>chr1-180726-181005</th>\n      <td>0.000087</td>\n      <td>0.000087</td>\n      <td>0.000086</td>\n      <td>0.000086</td>\n      <td>0.000087</td>\n      <td>0.000087</td>\n      <td>0.000087</td>\n      <td>0.000086</td>\n      <td>0.000087</td>\n      <td>0.000087</td>\n      <td>...</td>\n      <td>0.000086</td>\n      <td>0.000087</td>\n      <td>0.000087</td>\n      <td>0.000086</td>\n      <td>0.000086</td>\n      <td>0.000087</td>\n      <td>0.000087</td>\n      <td>0.000087</td>\n      <td>0.000087</td>\n      <td>0.000087</td>\n    </tr>\n    <tr>\n      <th>chr1-181117-181803</th>\n      <td>0.000086</td>\n      <td>0.000086</td>\n      <td>0.000085</td>\n      <td>0.000085</td>\n      <td>0.000087</td>\n      <td>0.000086</td>\n      <td>0.000087</td>\n      <td>0.000085</td>\n      <td>0.000087</td>\n      <td>0.000086</td>\n      <td>...</td>\n      <td>0.000085</td>\n      <td>0.000087</td>\n      <td>0.000086</td>\n      <td>0.000085</td>\n      <td>0.000085</td>\n      <td>0.000088</td>\n      <td>0.000086</td>\n      <td>0.000086</td>\n      <td>0.000087</td>\n      <td>0.000086</td>\n    </tr>\n    <tr>\n      <th>chr1-191133-192055</th>\n      <td>0.000086</td>\n      <td>0.000086</td>\n      <td>0.000086</td>\n      <td>0.000086</td>\n      <td>0.000087</td>\n      <td>0.000086</td>\n      <td>0.000087</td>\n      <td>0.000086</td>\n      <td>0.000087</td>\n      <td>0.000086</td>\n      <td>...</td>\n      <td>0.000086</td>\n      <td>0.000087</td>\n      <td>0.000086</td>\n      <td>0.000086</td>\n      <td>0.000086</td>\n      <td>0.000087</td>\n      <td>0.000087</td>\n      <td>0.000086</td>\n      <td>0.000087</td>\n      <td>0.000086</td>\n    </tr>\n    <tr>\n      <th>chr1-267562-268456</th>\n      <td>0.000087</td>\n      <td>0.000087</td>\n      <td>0.000087</td>\n      <td>0.000087</td>\n      <td>0.000087</td>\n      <td>0.000087</td>\n      <td>0.000087</td>\n      <td>0.000087</td>\n      <td>0.000087</td>\n      <td>0.000087</td>\n      <td>...</td>\n      <td>0.000087</td>\n      <td>0.000087</td>\n      <td>0.000087</td>\n      <td>0.000087</td>\n      <td>0.000087</td>\n      <td>0.000087</td>\n      <td>0.000087</td>\n      <td>0.000087</td>\n      <td>0.000087</td>\n      <td>0.000087</td>\n    </tr>\n    <tr>\n      <th>...</th>\n      <td>...</td>\n      <td>...</td>\n      <td>...</td>\n      <td>...</td>\n      <td>...</td>\n      <td>...</td>\n      <td>...</td>\n      <td>...</td>\n      <td>...</td>\n      <td>...</td>\n      <td>...</td>\n      <td>...</td>\n      <td>...</td>\n      <td>...</td>\n      <td>...</td>\n      <td>...</td>\n      <td>...</td>\n      <td>...</td>\n      <td>...</td>\n      <td>...</td>\n      <td>...</td>\n    </tr>\n    <tr>\n      <th>chr1-248889127-248890048</th>\n      <td>0.000086</td>\n      <td>0.000086</td>\n      <td>0.000085</td>\n      <td>0.000085</td>\n      <td>0.000086</td>\n      <td>0.000086</td>\n      <td>0.000087</td>\n      <td>0.000085</td>\n      <td>0.000086</td>\n      <td>0.000086</td>\n      <td>...</td>\n      <td>0.000085</td>\n      <td>0.000087</td>\n      <td>0.000086</td>\n      <td>0.000085</td>\n      <td>0.000085</td>\n      <td>0.000088</td>\n      <td>0.000086</td>\n      <td>0.000086</td>\n      <td>0.000087</td>\n      <td>0.000086</td>\n    </tr>\n    <tr>\n      <th>chr1-248890687-248891455</th>\n      <td>0.000086</td>\n      <td>0.000086</td>\n      <td>0.000086</td>\n      <td>0.000086</td>\n      <td>0.000087</td>\n      <td>0.000086</td>\n      <td>0.000087</td>\n      <td>0.000086</td>\n      <td>0.000087</td>\n      <td>0.000086</td>\n      <td>...</td>\n      <td>0.000086</td>\n      <td>0.000087</td>\n      <td>0.000086</td>\n      <td>0.000086</td>\n      <td>0.000086</td>\n      <td>0.000087</td>\n      <td>0.000087</td>\n      <td>0.000086</td>\n      <td>0.000087</td>\n      <td>0.000086</td>\n    </tr>\n    <tr>\n      <th>chr1-248906135-248906977</th>\n      <td>0.000087</td>\n      <td>0.000087</td>\n      <td>0.000087</td>\n      <td>0.000087</td>\n      <td>0.000087</td>\n      <td>0.000087</td>\n      <td>0.000087</td>\n      <td>0.000087</td>\n      <td>0.000087</td>\n      <td>0.000087</td>\n      <td>...</td>\n      <td>0.000087</td>\n      <td>0.000087</td>\n      <td>0.000087</td>\n      <td>0.000087</td>\n      <td>0.000087</td>\n      <td>0.000087</td>\n      <td>0.000087</td>\n      <td>0.000087</td>\n      <td>0.000087</td>\n      <td>0.000087</td>\n    </tr>\n    <tr>\n      <th>chr1-248913933-248914623</th>\n      <td>0.000086</td>\n      <td>0.000086</td>\n      <td>0.000086</td>\n      <td>0.000086</td>\n      <td>0.000087</td>\n      <td>0.000086</td>\n      <td>0.000087</td>\n      <td>0.000086</td>\n      <td>0.000087</td>\n      <td>0.000086</td>\n      <td>...</td>\n      <td>0.000086</td>\n      <td>0.000087</td>\n      <td>0.000086</td>\n      <td>0.000086</td>\n      <td>0.000086</td>\n      <td>0.000087</td>\n      <td>0.000086</td>\n      <td>0.000086</td>\n      <td>0.000087</td>\n      <td>0.000086</td>\n    </tr>\n    <tr>\n      <th>chr1-248924661-248925528</th>\n      <td>0.000088</td>\n      <td>0.000088</td>\n      <td>0.000088</td>\n      <td>0.000088</td>\n      <td>0.000087</td>\n      <td>0.000088</td>\n      <td>0.000087</td>\n      <td>0.000088</td>\n      <td>0.000087</td>\n      <td>0.000088</td>\n      <td>...</td>\n      <td>0.000088</td>\n      <td>0.000087</td>\n      <td>0.000088</td>\n      <td>0.000088</td>\n      <td>0.000088</td>\n      <td>0.000086</td>\n      <td>0.000087</td>\n      <td>0.000088</td>\n      <td>0.000087</td>\n      <td>0.000088</td>\n    </tr>\n  </tbody>\n</table>\n<p>11497 rows × 1235 columns</p>\n</div>"
     },
     "execution_count": 9,
     "metadata": {},
     "output_type": "execute_result"
    }
   ],
   "source": [
    "cell_att_w = att_w[cell_type]\n",
    "cell_att_w"
   ],
   "metadata": {
    "collapsed": false
   }
  },
  {
   "cell_type": "code",
   "execution_count": 10,
   "outputs": [],
   "source": [
    "# # check max and min top 5% att in gene per gene\n",
    "# max_ca_in_gene = 0\n",
    "# min_ca_in_gene = 1\n",
    "# for i in range(1, 23):\n",
    "#     chr = i\n",
    "#     chr_atac_in_gene = atac_in_gene_per_chr[f'chr{chr}']\n",
    "#\n",
    "#     att_w_path = f'../data/att w/chr{chr}_mean_att_w_per_cell_group.pkl'\n",
    "#     att_w = pk.load(open(att_w_path, 'rb'))\n",
    "#\n",
    "#     cell_att_w = att_w[cell_type]\n",
    "#     # get top 5% CA highest att\n",
    "#     num_take = int(0.05 * len(cell_att_w.index))\n",
    "#\n",
    "#     for col in cell_att_w.columns:\n",
    "#         col_att = cell_att_w[col]\n",
    "#         col_att = col_att.sort_values(ascending=False)[:num_take]\n",
    "#\n",
    "#         count = 0\n",
    "#         for ca in col_att.index:\n",
    "#             if ca in chr_atac_in_gene:\n",
    "#                 count += 1\n",
    "#         max_ca_in_gene = max(max_ca_in_gene, count/len(col_att.index))\n",
    "#         min_ca_in_gene = min(min_ca_in_gene, count/len(col_att.index))\n",
    "#\n",
    "# print('top 5% highest att CA in gene max:', max_ca_in_gene)\n",
    "# print('top 5% highest att CA in gene min:', min_ca_in_gene)"
   ],
   "metadata": {
    "collapsed": false
   }
  },
  {
   "cell_type": "code",
   "execution_count": 11,
   "outputs": [],
   "source": [
    "# # check max and min top 5% att in gene of marker gene\n",
    "# for key in maker_gene_per_chr.keys():\n",
    "#     att_w_path = f'../data/att w/{key}_mean_att_w_per_cell_group.pkl'\n",
    "#     att_w = pk.load(open(att_w_path, 'rb'))\n",
    "#\n",
    "#     cell_att_w = att_w[cell_type]\n",
    "#     # get top 5% CA highest att\n",
    "#     num_take = int(0.05 * len(cell_att_w.index))\n",
    "#\n",
    "#     chr_atac_in_gene = atac_in_gene_per_chr[key]\n",
    "#\n",
    "#     for col in maker_gene_per_chr[key]:\n",
    "#         col_att = cell_att_w[col]\n",
    "#         col_att = col_att.sort_values(ascending=False)[:num_take]\n",
    "#\n",
    "#         sum_att = sum(col_att)\n",
    "#\n",
    "#         count = 0\n",
    "#         for ca in col_att.index:\n",
    "#             if ca in chr_atac_in_gene:\n",
    "#                 count += 1\n",
    "#\n",
    "#         print(col, count/len(col_att.index), sum_att)\n"
   ],
   "metadata": {
    "collapsed": false
   }
  },
  {
   "cell_type": "code",
   "execution_count": 12,
   "outputs": [
    {
     "name": "stdout",
     "output_type": "stream",
     "text": [
      "chr1 ['CD2', 'RPL22', 'RSRP1', 'PRDM2', 'TUT4', 'RAP1A', 'HIVEP3', 'ZNF644', 'S100A6', 'EIF4G3', 'RUNX3', 'IFI16', 'CAPZB', 'CD53', 'USP24', 'PRKACB', 'PUM1', 'EPS15', 'LYST', 'HNRNPU', 'PKN2', 'MAN1A2', 'CD52', 'NEK7', 'CEP350', 'DENND1B', 'ITPKB', 'SFPQ', 'RERE', 'ZRANB2', 'CD55', 'ASH1L', 'SH3BGRL3', 'TRAF3IP3', 'PYHIN1', 'TPR', 'SRSF10', 'PTPN22', 'VAV3', 'FUBP1', 'NIBAN1', 'CAPZA1', 'HP1BP3', 'FOXJ3', 'ATP2B4', 'SSBP3', 'RASSF3', 'TGFBR3', 'VPS13D', 'LRRC8C', 'LCK', 'CTSS', 'ARID1A', 'PATJ', 'TRIM33', 'MIER1', 'GNB1', 'COP1', 'GATAD2B', 'MCL1', 'WASF2', 'SRSF11', 'PCNX2', 'S100A9', 'ACBD6', 'CDC73', 'RC3H1', 'H3F3A', 'RCSD1', 'DHX9', 'EPB41', 'S100A4', 'FAF1', 'NUCKS1', 'XPR1', 'CSDE1', 'CLK1', 'RPL5', 'PTBP2', 'PDE4B', 'ATF6', 'USP33', 'SRSF4', 'PRRC2C', 'ARID4B', 'THRAP3', 'PPP2R5A', 'AGO3', 'S100A8', 'CDC14A', 'SERBP1', 'SRRM1', 'DISC1', 'SUCO', 'ODF2L', 'PTP4A2', 'LAPTM5', 'MACF1', 'TPM3', 'WDR26', 'CROCC', 'RPS6KC1', 'ENO1', 'CD48', 'POU2F1', 'OSBPL9', 'RNF115', 'RAB3GAP2', 'MDM4', 'LINC01138', 'NRDC', 'KCNAB2', 'JAK1', 'GAS5', 'RSBN1', 'PRPF38B', 'TENT5C', 'KIFAP3', 'COA1', 'BTG2', 'CNST', 'PIK3CD', 'ADAR', 'NFIA', 'RGS2', 'PHACTR4', 'AHCTF1', 'USP48', 'CD46', 'RNPC3', 'MTR', 'SLC30A7']\n",
      "chr4 ['INPP4B', 'RPL34', 'LRBA', 'ATP8A1', 'CNOT6L', 'RPS3A', 'LEF1', 'PPP3CA', 'CAMK2D', 'RPL9', 'ARAP2', 'FBXW7', 'FRYL', 'ANKRD17', 'TMEM131L', 'NR3C2', 'RHOH', 'KIAA1109', 'NFKB1', 'STIM2', 'GPRIN3', 'TXK']\n",
      "chr5 ['IL7R', 'ARL15', 'FBXL17', 'NIPBL', 'RPL37', 'TNFAIP8', 'FAM172A', 'DOCK2', 'PIK3R1', 'NR3C1', 'PDE4D', 'ARHGAP26', 'IQGAP2', 'RPS23', 'ITK', 'FYB1', 'RICTOR', 'CCNH', 'CAMK4', 'CDC42SE2', 'RPS14', 'RAPGEF6', 'NDFIP1', 'ERBIN', 'STK10', 'RACK1', 'PAM', 'ANKHD1', 'CAST', 'DUSP1', 'PPP2R2B', 'CD74', 'AP3B1', 'PARP8', 'CYFIP2', 'SERINC5', 'MAN2A1', 'IRF1', 'SSBP2', 'HNRNPH1', 'COMMD10', 'CHD1', 'ZSWIM6', 'DIAPH1', 'WDR70', 'GZMA', 'LCP2', 'MAP3K1', 'LNPEP', 'MARCH6', 'TCF7', 'VCAN', 'CSNK1A1', 'TENT2', 'NPM1', 'RASA1', 'ZFR', 'NSD1', 'KIF2A', 'ST8SIA4']\n",
      "chr6 ['FYN', 'HLA-B', 'HLA-C', 'UTRN', 'RPS18', 'HLA-A', 'EEF1A1', 'RIPOR2', 'RPS12', 'HLA-E', 'ARID1B', 'ZFAND3', 'ATXN1', 'THEMIS', 'CDKAL1', 'SYTL3', 'SYNE1', 'ZNF292', 'RPL10A']\n",
      "chr11 ['MALAT1', 'HBB', 'RPLP2', 'RPS3', 'RPL27A', 'FAU', 'SIK3', 'ATM', 'RPS25', 'NEAT1', 'CD44', 'PDE3B', 'PAN3', 'PICALM', 'ETS1', 'RPS13', 'PACS1', 'AHNAK', 'TTC17', 'EEF1G']\n",
      "chr13 ['KLF12', 'RPL21', 'TPT1', 'ELF1', 'MYCBP2']\n",
      "chr14 ['PRKCH', 'FOXN3']\n",
      "chr15 ['B2M', 'RPLP1', 'RORA', 'AKAP13', 'RPS17', 'VPS13C', 'TCF12', 'DENND4A']\n",
      "chr16 ['IL32', 'RPS15A', 'WWOX', 'ANKRD11', 'PRKCB', 'SRRM2', 'PLCG2', 'CYBA', 'RPS2', 'RPL13', 'TCF25', 'CORO1A', 'NFATC3', 'ITFG1', 'GLG1', 'RBL2', 'CREBBP', 'CMIP', 'FUS', 'SMG1', 'NLRC5', 'ITGAL', 'TNRC6A', 'NFAT5', 'CHD9', 'FTO', 'LITAF', 'PHKB', 'XYLT1', 'COX4I1', 'TERF2IP', 'CNOT1', 'XPO6', 'LONP2', 'WWP2', 'SNX29', 'USP10', 'BRD7', 'CYLD', 'GSPT1', 'ABCC1', 'CORO7', 'N4BP1', 'RBBP6']\n",
      "chr17 ['SKAP1', 'DDX5', 'RPL19', 'PITPNC1', 'RPL23A', 'H3F3B', 'CCL5', 'RNF213', 'CYTH1', 'EIF1', 'RPL17', 'SSH2', 'RPL23', 'RPL26', 'PRKCA', 'RPL38', 'KANSL1', 'BPTF', 'SLFN12L', 'PFN1', 'EPC1', 'ACTG1', 'PIK3R5', 'NCOR1', 'BCAS3', 'MSI2', 'RPL27', 'TNRC6C']\n"
     ]
    }
   ],
   "source": [
    "# find correlation group\n",
    "for key in maker_gene_per_chr.keys():\n",
    "    if len(maker_gene_per_chr[key]) <= 0:\n",
    "        continue\n",
    "\n",
    "    att_w_path = f'../data/att w/{key}_mean_att_w_per_cell_group.pkl'\n",
    "    att_w = pk.load(open(att_w_path, 'rb'))\n",
    "\n",
    "    cell_att_w = att_w[cell_type]\n",
    "    cell_corr = cell_att_w.corr()\n",
    "\n",
    "    cell_corr = cell_corr.sort_values(maker_gene_per_chr[key], axis=0, ascending=False)\n",
    "    cell_corr = cell_corr.sort_values(maker_gene_per_chr[key], axis=1, ascending=False)\n",
    "\n",
    "    col0 = cell_corr[cell_corr.columns[0]]\n",
    "    for i in range(len(col0)):\n",
    "        if col0.iloc[i] < 0.8:\n",
    "            num_take = i\n",
    "            break\n",
    "    list_name = cell_corr.columns[:num_take]\n",
    "    cell_corr = cell_corr[list_name].iloc[:len(list_name)]\n",
    "\n",
    "    cell_corr.to_csv(f'../data/csv/{cell_type}/{key}_co-expression.csv')\n",
    "    print(key, list_name.to_list())\n",
    "    # print(cell_corr)"
   ],
   "metadata": {
    "collapsed": false
   }
  },
  {
   "cell_type": "code",
   "execution_count": 39,
   "outputs": [
    {
     "name": "stdout",
     "output_type": "stream",
     "text": [
      "chr1\n",
      "[('FCRL1', 9), ('RALGPS2', 5), ('RCSD1', 52)]\n",
      "chr2\n",
      "[('AFF3', 1), ('PRKCE', 38), ('MGAT5', 39)]\n",
      "chr3\n",
      "[('OSBPL10', 15), ('ITPR1', 58), ('UBE2E2', 30), ('FOXP1', 73)]\n",
      "chr4\n",
      "[('ARHGAP24', 20), ('MARCH1', 44), ('CAMK2D', 12), ('STIM2', 94), ('BANK1', 3), ('TAPT1', 82)]\n",
      "chr5\n",
      "[('CD74', 4), ('EBF1', 6), ('MEF2C', 48), ('SSBP2', 41), ('PDE4D', 54), ('LIX1-AS1', 42), ('TRIO', 62), ('ADAM19', 25)]\n",
      "chr6\n",
      "[('HLA-DRA', 13), ('KHDRBS2', 17), ('HLA-DRB1', 21), ('PLEKHG1', 19), ('COL19A1', 14), ('HLA-DQA1', 71), ('STX7', 53), ('BACH2', 2)]\n",
      "chr7\n",
      "[('CDK14', 16), ('HDAC9', 31), ('AUTS2', 91)]\n",
      "chr9\n",
      "[('PAX5', 7), ('STRBP', 32), ('ZCCHC7', 18), ('SYK', 29)]\n",
      "chr11\n",
      "[('MS4A1', 10), ('UVRAG', 99), ('SWAP70', 57), ('BIRC3', 79), ('FCHSD2', 35), ('RAB30', 78)]\n",
      "chr13\n",
      "[('PCDH9', 11)]\n",
      "chr14\n",
      "[('IGHM', 8)]\n"
     ]
    }
   ],
   "source": [
    "cell_maker_gene = maker_gene[cell_type]\n",
    "for key in maker_gene_per_chr.keys():\n",
    "    if len(maker_gene_per_chr[key]) <= 0:\n",
    "        continue\n",
    "\n",
    "    cell_corr = pd.read_csv(f'../data/csv/{cell_type}/{key}_co-expression.csv', index_col=0)\n",
    "\n",
    "    list_name = cell_corr.columns\n",
    "    list_in_marker = []\n",
    "    list_in_index = []\n",
    "    for name in list_name:\n",
    "        if name in cell_maker_gene:\n",
    "            list_in_marker.append((name, cell_maker_gene.index(name) + 1))\n",
    "\n",
    "\n",
    "    print(key)\n",
    "    print(list_in_marker)"
   ],
   "metadata": {
    "collapsed": false
   }
  },
  {
   "cell_type": "code",
   "execution_count": 8,
   "outputs": [
    {
     "name": "stdout",
     "output_type": "stream",
     "text": [
      "CD2 ['CD53', 'PRKACB', 'CD52', 'TRAF3IP3', 'PTPN22', 'LCK', 'CTSS', 'LAPTM5', 'CD48']\n"
     ]
    }
   ],
   "source": [
    "for key in maker_gene_per_chr.keys():\n",
    "    if len(maker_gene_per_chr[key]) <= 0:\n",
    "        continue\n",
    "\n",
    "    cell_corr = pd.read_csv(f'../data/csv/{cell_type}/{key}_co-expression.csv', index_col=0)\n",
    "\n",
    "    list_name = cell_corr.columns\n",
    "    marker_gene = maker_gene_per_chr[key]\n",
    "\n",
    "    print(key)\n",
    "    for gene in marker_gene:\n",
    "\n",
    "        f = open(f'../data/html/{cell_type}/{gene}.txt', 'r')\n",
    "        lines = f.readlines()\n",
    "        pathways = []\n",
    "        for idx, line in enumerate(lines):\n",
    "            if len(line.split(' ')) == 1:\n",
    "                pathways.append(line.split('\\t\\n')[0])\n",
    "\n",
    "        existed_pathways = []\n",
    "        for corr_gene in list_name:\n",
    "            if corr_gene in pathways:\n",
    "                existed_pathways.append(corr_gene)\n",
    "\n",
    "        print(gene, existed_pathways)\n",
    "        break\n",
    "    break"
   ],
   "metadata": {
    "collapsed": false
   }
  },
  {
   "cell_type": "code",
   "execution_count": null,
   "outputs": [],
   "source": [],
   "metadata": {
    "collapsed": false
   }
  }
 ],
 "metadata": {
  "kernelspec": {
   "display_name": "Python 3",
   "language": "python",
   "name": "python3"
  },
  "language_info": {
   "codemirror_mode": {
    "name": "ipython",
    "version": 2
   },
   "file_extension": ".py",
   "mimetype": "text/x-python",
   "name": "python",
   "nbconvert_exporter": "python",
   "pygments_lexer": "ipython2",
   "version": "2.7.6"
  }
 },
 "nbformat": 4,
 "nbformat_minor": 0
}
